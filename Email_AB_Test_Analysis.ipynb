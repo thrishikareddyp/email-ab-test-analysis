{
  "nbformat": 4,
  "nbformat_minor": 0,
  "metadata": {
    "colab": {
      "provenance": []
    },
    "kernelspec": {
      "name": "python3",
      "display_name": "Python 3"
    },
    "language_info": {
      "name": "python"
    }
  },
  "cells": [
    {
      "cell_type": "code",
      "source": [
        "# A/B Test Analysis: Do Subject Lines Affect Email Open Rates?\n"
      ],
      "metadata": {
        "id": "O4KZXMiKFLnt"
      },
      "execution_count": 3,
      "outputs": []
    },
    {
      "cell_type": "code",
      "source": [
        "# Installing Kaggle CLI\n",
        "!pip install -q kaggle\n",
        "\n",
        "# Make a directory for the Kaggle API key and copy the file\n",
        "!mkdir -p ~/.kaggle\n",
        "!cp kaggle.json ~/.kaggle/\n",
        "!chmod 600 ~/.kaggle/kaggle.json\n"
      ],
      "metadata": {
        "id": "65bwiVoLMBW7"
      },
      "execution_count": 4,
      "outputs": []
    },
    {
      "cell_type": "code",
      "source": [
        "!kaggle datasets download -d manishabhatt22/marketing-campaign-performance-dataset\n"
      ],
      "metadata": {
        "colab": {
          "base_uri": "https://localhost:8080/"
        },
        "id": "Wi970TfBNk-x",
        "outputId": "4f51d0b6-b8ee-45f9-f465-6a6a84db4afb"
      },
      "execution_count": 5,
      "outputs": [
        {
          "output_type": "stream",
          "name": "stdout",
          "text": [
            "Dataset URL: https://www.kaggle.com/datasets/manishabhatt22/marketing-campaign-performance-dataset\n",
            "License(s): CC0-1.0\n",
            "Downloading marketing-campaign-performance-dataset.zip to /content\n",
            "  0% 0.00/5.02M [00:00<?, ?B/s]\n",
            "100% 5.02M/5.02M [00:00<00:00, 615MB/s]\n"
          ]
        }
      ]
    },
    {
      "cell_type": "code",
      "source": [
        "!unzip marketing-campaign-performance-dataset.zip\n"
      ],
      "metadata": {
        "colab": {
          "base_uri": "https://localhost:8080/"
        },
        "id": "CjcQxWoMNnjq",
        "outputId": "7674f336-be67-42fd-8859-8cfa46ad3f11"
      },
      "execution_count": 6,
      "outputs": [
        {
          "output_type": "stream",
          "name": "stdout",
          "text": [
            "Archive:  marketing-campaign-performance-dataset.zip\n",
            "  inflating: marketing_campaign_dataset.csv  \n"
          ]
        }
      ]
    },
    {
      "cell_type": "code",
      "source": [
        "import pandas as pd\n",
        "\n",
        "# Load the dataset\n",
        "df = pd.read_csv(\"marketing_campaign_dataset.csv\")\n",
        "\n",
        "# Preview column names to confirm structure\n",
        "df.columns\n"
      ],
      "metadata": {
        "colab": {
          "base_uri": "https://localhost:8080/"
        },
        "id": "CWYO4iUXNpVb",
        "outputId": "8df93de0-5ff7-4fc7-9c0d-a07ab859e511"
      },
      "execution_count": 8,
      "outputs": [
        {
          "output_type": "execute_result",
          "data": {
            "text/plain": [
              "Index(['Campaign_ID', 'Company', 'Campaign_Type', 'Target_Audience',\n",
              "       'Duration', 'Channel_Used', 'Conversion_Rate', 'Acquisition_Cost',\n",
              "       'ROI', 'Location', 'Language', 'Clicks', 'Impressions',\n",
              "       'Engagement_Score', 'Customer_Segment', 'Date'],\n",
              "      dtype='object')"
            ]
          },
          "metadata": {},
          "execution_count": 8
        }
      ]
    },
    {
      "cell_type": "code",
      "source": [
        "df.columns.tolist()\n"
      ],
      "metadata": {
        "colab": {
          "base_uri": "https://localhost:8080/"
        },
        "id": "OhmUMT8DNrPT",
        "outputId": "28b30486-7cd4-40d7-e71b-d791fba5d985"
      },
      "execution_count": 9,
      "outputs": [
        {
          "output_type": "execute_result",
          "data": {
            "text/plain": [
              "['Campaign_ID',\n",
              " 'Company',\n",
              " 'Campaign_Type',\n",
              " 'Target_Audience',\n",
              " 'Duration',\n",
              " 'Channel_Used',\n",
              " 'Conversion_Rate',\n",
              " 'Acquisition_Cost',\n",
              " 'ROI',\n",
              " 'Location',\n",
              " 'Language',\n",
              " 'Clicks',\n",
              " 'Impressions',\n",
              " 'Engagement_Score',\n",
              " 'Customer_Segment',\n",
              " 'Date']"
            ]
          },
          "metadata": {},
          "execution_count": 9
        }
      ]
    },
    {
      "cell_type": "code",
      "source": [
        "# Filter for email campaigns\n",
        "df_email = df[df['Channel_Used'] == 'Email'].copy()\n",
        "\n",
        "# Find the top 2 campaign types\n",
        "top_campaigns = df_email['Campaign_Type'].value_counts().nlargest(2).index.tolist()\n",
        "\n",
        "# Keep only those two for A/B simulation\n",
        "ab_data = df_email[df_email['Campaign_Type'].isin(top_campaigns)].copy()\n",
        "\n",
        "# Label A/B groups\n",
        "ab_data['group'] = ab_data['Campaign_Type'].apply(lambda x: 'A' if x == top_campaigns[0] else 'B')\n",
        "\n",
        "# Simulate 'opened_email' using Clicks as proxy\n",
        "ab_data['opened_email'] = ab_data['Clicks'].apply(lambda x: 1 if x > 0 else 0)\n",
        "\n",
        "# Create final DataFrame for A/B test\n",
        "ab_final = ab_data[['Campaign_ID', 'group', 'opened_email']].drop_duplicates('Campaign_ID')\n",
        "ab_final = ab_final.rename(columns={'Campaign_ID': 'user_id'})\n",
        "\n",
        "# Save to CSV for future use\n",
        "ab_final.to_csv(\"email_ab_real_cleaned.csv\", index=False)\n",
        "\n",
        "ab_final.head()\n"
      ],
      "metadata": {
        "colab": {
          "base_uri": "https://localhost:8080/",
          "height": 206
        },
        "id": "HhztMHU1N059",
        "outputId": "d0025c17-75cf-446c-c2c1-349052e7bc7b"
      },
      "execution_count": 10,
      "outputs": [
        {
          "output_type": "execute_result",
          "data": {
            "text/plain": [
              "    user_id group  opened_email\n",
              "29       30     B             1\n",
              "49       50     B             1\n",
              "57       58     A             1\n",
              "58       59     A             1\n",
              "60       61     A             1"
            ],
            "text/html": [
              "\n",
              "  <div id=\"df-ce51f95e-3e47-484f-ae4e-47ec9f48f8f5\" class=\"colab-df-container\">\n",
              "    <div>\n",
              "<style scoped>\n",
              "    .dataframe tbody tr th:only-of-type {\n",
              "        vertical-align: middle;\n",
              "    }\n",
              "\n",
              "    .dataframe tbody tr th {\n",
              "        vertical-align: top;\n",
              "    }\n",
              "\n",
              "    .dataframe thead th {\n",
              "        text-align: right;\n",
              "    }\n",
              "</style>\n",
              "<table border=\"1\" class=\"dataframe\">\n",
              "  <thead>\n",
              "    <tr style=\"text-align: right;\">\n",
              "      <th></th>\n",
              "      <th>user_id</th>\n",
              "      <th>group</th>\n",
              "      <th>opened_email</th>\n",
              "    </tr>\n",
              "  </thead>\n",
              "  <tbody>\n",
              "    <tr>\n",
              "      <th>29</th>\n",
              "      <td>30</td>\n",
              "      <td>B</td>\n",
              "      <td>1</td>\n",
              "    </tr>\n",
              "    <tr>\n",
              "      <th>49</th>\n",
              "      <td>50</td>\n",
              "      <td>B</td>\n",
              "      <td>1</td>\n",
              "    </tr>\n",
              "    <tr>\n",
              "      <th>57</th>\n",
              "      <td>58</td>\n",
              "      <td>A</td>\n",
              "      <td>1</td>\n",
              "    </tr>\n",
              "    <tr>\n",
              "      <th>58</th>\n",
              "      <td>59</td>\n",
              "      <td>A</td>\n",
              "      <td>1</td>\n",
              "    </tr>\n",
              "    <tr>\n",
              "      <th>60</th>\n",
              "      <td>61</td>\n",
              "      <td>A</td>\n",
              "      <td>1</td>\n",
              "    </tr>\n",
              "  </tbody>\n",
              "</table>\n",
              "</div>\n",
              "    <div class=\"colab-df-buttons\">\n",
              "\n",
              "  <div class=\"colab-df-container\">\n",
              "    <button class=\"colab-df-convert\" onclick=\"convertToInteractive('df-ce51f95e-3e47-484f-ae4e-47ec9f48f8f5')\"\n",
              "            title=\"Convert this dataframe to an interactive table.\"\n",
              "            style=\"display:none;\">\n",
              "\n",
              "  <svg xmlns=\"http://www.w3.org/2000/svg\" height=\"24px\" viewBox=\"0 -960 960 960\">\n",
              "    <path d=\"M120-120v-720h720v720H120Zm60-500h600v-160H180v160Zm220 220h160v-160H400v160Zm0 220h160v-160H400v160ZM180-400h160v-160H180v160Zm440 0h160v-160H620v160ZM180-180h160v-160H180v160Zm440 0h160v-160H620v160Z\"/>\n",
              "  </svg>\n",
              "    </button>\n",
              "\n",
              "  <style>\n",
              "    .colab-df-container {\n",
              "      display:flex;\n",
              "      gap: 12px;\n",
              "    }\n",
              "\n",
              "    .colab-df-convert {\n",
              "      background-color: #E8F0FE;\n",
              "      border: none;\n",
              "      border-radius: 50%;\n",
              "      cursor: pointer;\n",
              "      display: none;\n",
              "      fill: #1967D2;\n",
              "      height: 32px;\n",
              "      padding: 0 0 0 0;\n",
              "      width: 32px;\n",
              "    }\n",
              "\n",
              "    .colab-df-convert:hover {\n",
              "      background-color: #E2EBFA;\n",
              "      box-shadow: 0px 1px 2px rgba(60, 64, 67, 0.3), 0px 1px 3px 1px rgba(60, 64, 67, 0.15);\n",
              "      fill: #174EA6;\n",
              "    }\n",
              "\n",
              "    .colab-df-buttons div {\n",
              "      margin-bottom: 4px;\n",
              "    }\n",
              "\n",
              "    [theme=dark] .colab-df-convert {\n",
              "      background-color: #3B4455;\n",
              "      fill: #D2E3FC;\n",
              "    }\n",
              "\n",
              "    [theme=dark] .colab-df-convert:hover {\n",
              "      background-color: #434B5C;\n",
              "      box-shadow: 0px 1px 3px 1px rgba(0, 0, 0, 0.15);\n",
              "      filter: drop-shadow(0px 1px 2px rgba(0, 0, 0, 0.3));\n",
              "      fill: #FFFFFF;\n",
              "    }\n",
              "  </style>\n",
              "\n",
              "    <script>\n",
              "      const buttonEl =\n",
              "        document.querySelector('#df-ce51f95e-3e47-484f-ae4e-47ec9f48f8f5 button.colab-df-convert');\n",
              "      buttonEl.style.display =\n",
              "        google.colab.kernel.accessAllowed ? 'block' : 'none';\n",
              "\n",
              "      async function convertToInteractive(key) {\n",
              "        const element = document.querySelector('#df-ce51f95e-3e47-484f-ae4e-47ec9f48f8f5');\n",
              "        const dataTable =\n",
              "          await google.colab.kernel.invokeFunction('convertToInteractive',\n",
              "                                                    [key], {});\n",
              "        if (!dataTable) return;\n",
              "\n",
              "        const docLinkHtml = 'Like what you see? Visit the ' +\n",
              "          '<a target=\"_blank\" href=https://colab.research.google.com/notebooks/data_table.ipynb>data table notebook</a>'\n",
              "          + ' to learn more about interactive tables.';\n",
              "        element.innerHTML = '';\n",
              "        dataTable['output_type'] = 'display_data';\n",
              "        await google.colab.output.renderOutput(dataTable, element);\n",
              "        const docLink = document.createElement('div');\n",
              "        docLink.innerHTML = docLinkHtml;\n",
              "        element.appendChild(docLink);\n",
              "      }\n",
              "    </script>\n",
              "  </div>\n",
              "\n",
              "\n",
              "    <div id=\"df-03af9fd9-322a-4aae-a033-d2fabfac5cb6\">\n",
              "      <button class=\"colab-df-quickchart\" onclick=\"quickchart('df-03af9fd9-322a-4aae-a033-d2fabfac5cb6')\"\n",
              "                title=\"Suggest charts\"\n",
              "                style=\"display:none;\">\n",
              "\n",
              "<svg xmlns=\"http://www.w3.org/2000/svg\" height=\"24px\"viewBox=\"0 0 24 24\"\n",
              "     width=\"24px\">\n",
              "    <g>\n",
              "        <path d=\"M19 3H5c-1.1 0-2 .9-2 2v14c0 1.1.9 2 2 2h14c1.1 0 2-.9 2-2V5c0-1.1-.9-2-2-2zM9 17H7v-7h2v7zm4 0h-2V7h2v10zm4 0h-2v-4h2v4z\"/>\n",
              "    </g>\n",
              "</svg>\n",
              "      </button>\n",
              "\n",
              "<style>\n",
              "  .colab-df-quickchart {\n",
              "      --bg-color: #E8F0FE;\n",
              "      --fill-color: #1967D2;\n",
              "      --hover-bg-color: #E2EBFA;\n",
              "      --hover-fill-color: #174EA6;\n",
              "      --disabled-fill-color: #AAA;\n",
              "      --disabled-bg-color: #DDD;\n",
              "  }\n",
              "\n",
              "  [theme=dark] .colab-df-quickchart {\n",
              "      --bg-color: #3B4455;\n",
              "      --fill-color: #D2E3FC;\n",
              "      --hover-bg-color: #434B5C;\n",
              "      --hover-fill-color: #FFFFFF;\n",
              "      --disabled-bg-color: #3B4455;\n",
              "      --disabled-fill-color: #666;\n",
              "  }\n",
              "\n",
              "  .colab-df-quickchart {\n",
              "    background-color: var(--bg-color);\n",
              "    border: none;\n",
              "    border-radius: 50%;\n",
              "    cursor: pointer;\n",
              "    display: none;\n",
              "    fill: var(--fill-color);\n",
              "    height: 32px;\n",
              "    padding: 0;\n",
              "    width: 32px;\n",
              "  }\n",
              "\n",
              "  .colab-df-quickchart:hover {\n",
              "    background-color: var(--hover-bg-color);\n",
              "    box-shadow: 0 1px 2px rgba(60, 64, 67, 0.3), 0 1px 3px 1px rgba(60, 64, 67, 0.15);\n",
              "    fill: var(--button-hover-fill-color);\n",
              "  }\n",
              "\n",
              "  .colab-df-quickchart-complete:disabled,\n",
              "  .colab-df-quickchart-complete:disabled:hover {\n",
              "    background-color: var(--disabled-bg-color);\n",
              "    fill: var(--disabled-fill-color);\n",
              "    box-shadow: none;\n",
              "  }\n",
              "\n",
              "  .colab-df-spinner {\n",
              "    border: 2px solid var(--fill-color);\n",
              "    border-color: transparent;\n",
              "    border-bottom-color: var(--fill-color);\n",
              "    animation:\n",
              "      spin 1s steps(1) infinite;\n",
              "  }\n",
              "\n",
              "  @keyframes spin {\n",
              "    0% {\n",
              "      border-color: transparent;\n",
              "      border-bottom-color: var(--fill-color);\n",
              "      border-left-color: var(--fill-color);\n",
              "    }\n",
              "    20% {\n",
              "      border-color: transparent;\n",
              "      border-left-color: var(--fill-color);\n",
              "      border-top-color: var(--fill-color);\n",
              "    }\n",
              "    30% {\n",
              "      border-color: transparent;\n",
              "      border-left-color: var(--fill-color);\n",
              "      border-top-color: var(--fill-color);\n",
              "      border-right-color: var(--fill-color);\n",
              "    }\n",
              "    40% {\n",
              "      border-color: transparent;\n",
              "      border-right-color: var(--fill-color);\n",
              "      border-top-color: var(--fill-color);\n",
              "    }\n",
              "    60% {\n",
              "      border-color: transparent;\n",
              "      border-right-color: var(--fill-color);\n",
              "    }\n",
              "    80% {\n",
              "      border-color: transparent;\n",
              "      border-right-color: var(--fill-color);\n",
              "      border-bottom-color: var(--fill-color);\n",
              "    }\n",
              "    90% {\n",
              "      border-color: transparent;\n",
              "      border-bottom-color: var(--fill-color);\n",
              "    }\n",
              "  }\n",
              "</style>\n",
              "\n",
              "      <script>\n",
              "        async function quickchart(key) {\n",
              "          const quickchartButtonEl =\n",
              "            document.querySelector('#' + key + ' button');\n",
              "          quickchartButtonEl.disabled = true;  // To prevent multiple clicks.\n",
              "          quickchartButtonEl.classList.add('colab-df-spinner');\n",
              "          try {\n",
              "            const charts = await google.colab.kernel.invokeFunction(\n",
              "                'suggestCharts', [key], {});\n",
              "          } catch (error) {\n",
              "            console.error('Error during call to suggestCharts:', error);\n",
              "          }\n",
              "          quickchartButtonEl.classList.remove('colab-df-spinner');\n",
              "          quickchartButtonEl.classList.add('colab-df-quickchart-complete');\n",
              "        }\n",
              "        (() => {\n",
              "          let quickchartButtonEl =\n",
              "            document.querySelector('#df-03af9fd9-322a-4aae-a033-d2fabfac5cb6 button');\n",
              "          quickchartButtonEl.style.display =\n",
              "            google.colab.kernel.accessAllowed ? 'block' : 'none';\n",
              "        })();\n",
              "      </script>\n",
              "    </div>\n",
              "\n",
              "    </div>\n",
              "  </div>\n"
            ],
            "application/vnd.google.colaboratory.intrinsic+json": {
              "type": "dataframe",
              "variable_name": "ab_final",
              "summary": "{\n  \"name\": \"ab_final\",\n  \"rows\": 13482,\n  \"fields\": [\n    {\n      \"column\": \"user_id\",\n      \"properties\": {\n        \"dtype\": \"number\",\n        \"std\": 57918,\n        \"min\": 30,\n        \"max\": 199990,\n        \"num_unique_values\": 13482,\n        \"samples\": [\n          134016,\n          152401,\n          36426\n        ],\n        \"semantic_type\": \"\",\n        \"description\": \"\"\n      }\n    },\n    {\n      \"column\": \"group\",\n      \"properties\": {\n        \"dtype\": \"category\",\n        \"num_unique_values\": 2,\n        \"samples\": [\n          \"A\",\n          \"B\"\n        ],\n        \"semantic_type\": \"\",\n        \"description\": \"\"\n      }\n    },\n    {\n      \"column\": \"opened_email\",\n      \"properties\": {\n        \"dtype\": \"number\",\n        \"std\": 0,\n        \"min\": 1,\n        \"max\": 1,\n        \"num_unique_values\": 1,\n        \"samples\": [\n          1\n        ],\n        \"semantic_type\": \"\",\n        \"description\": \"\"\n      }\n    }\n  ]\n}"
            }
          },
          "metadata": {},
          "execution_count": 10
        }
      ]
    },
    {
      "cell_type": "code",
      "source": [
        "import numpy as np\n",
        "import scipy.stats as stats\n",
        "import matplotlib.pyplot as plt\n",
        "\n",
        "# Group-wise conversion rates\n",
        "summary = ab_final.groupby(\"group\")[\"opened_email\"].agg([\"sum\", \"count\"])\n",
        "summary.columns = [\"opened\", \"total\"]\n",
        "summary[\"conversion_rate\"] = summary[\"opened\"] / summary[\"total\"]\n",
        "print(\"Conversion Summary:\\n\", summary)\n",
        "\n",
        "# Z-test for proportions\n",
        "opened_A = summary.loc[\"A\", \"opened\"]\n",
        "total_A = summary.loc[\"A\", \"total\"]\n",
        "opened_B = summary.loc[\"B\", \"opened\"]\n",
        "total_B = summary.loc[\"B\", \"total\"]\n",
        "\n",
        "# Proportions\n",
        "p1 = opened_A / total_A\n",
        "p2 = opened_B / total_B\n",
        "\n",
        "# Pooled proportion\n",
        "p_pool = (opened_A + opened_B) / (total_A + total_B)\n",
        "\n",
        "# Standard error\n",
        "se = np.sqrt(p_pool * (1 - p_pool) * (1/total_A + 1/total_B))\n",
        "\n",
        "# Z-score\n",
        "z = (p1 - p2) / se\n",
        "p_value = 2 * (1 - stats.norm.cdf(abs(z)))\n",
        "\n",
        "print(f\"\\nZ-score: {z:.3f}\")\n",
        "print(f\"P-value: {p_value:.4f}\")\n",
        "if p_value < 0.05:\n",
        "    print(\"✅ Statistically significant difference\")\n",
        "else:\n",
        "    print(\"❌ No significant difference\")\n",
        "\n",
        "# Bar plot\n",
        "summary[\"conversion_rate\"].plot(kind=\"bar\", color=[\"skyblue\", \"lightgreen\"])\n",
        "plt.title(\"Email Open Rate by Group\")\n",
        "plt.ylabel(\"Open Rate\")\n",
        "plt.xticks(rotation=0)\n",
        "plt.ylim(0, 1)\n",
        "plt.show()\n"
      ],
      "metadata": {
        "colab": {
          "base_uri": "https://localhost:8080/",
          "height": 668
        },
        "id": "ytXV2dn8N3Sb",
        "outputId": "df7e72d9-27b5-4770-f9af-49e43ff5ec9d"
      },
      "execution_count": 11,
      "outputs": [
        {
          "output_type": "stream",
          "name": "stdout",
          "text": [
            "Conversion Summary:\n",
            "        opened  total  conversion_rate\n",
            "group                                \n",
            "A        6760   6760              1.0\n",
            "B        6722   6722              1.0\n",
            "\n",
            "Z-score: nan\n",
            "P-value: nan\n",
            "❌ No significant difference\n"
          ]
        },
        {
          "output_type": "stream",
          "name": "stderr",
          "text": [
            "/tmp/ipython-input-11-64351616.py:28: RuntimeWarning: invalid value encountered in scalar divide\n",
            "  z = (p1 - p2) / se\n"
          ]
        },
        {
          "output_type": "display_data",
          "data": {
            "text/plain": [
              "<Figure size 640x480 with 1 Axes>"
            ],
            "image/png": "[encoded data removed]"
          },
          "metadata": {}
        }
      ]
    },
    {
      "cell_type": "code",
      "source": [
        "# Redefine opened_email: 1 only if Clicks >= 2\n",
        "ab_data['opened_email'] = ab_data['Clicks'].apply(lambda x: 1 if x >= 2 else 0)\n",
        "\n",
        "# Rebuild final DataFrame\n",
        "ab_final = ab_data[['Campaign_ID', 'group', 'opened_email']].drop_duplicates('Campaign_ID')\n",
        "ab_final = ab_final.rename(columns={'Campaign_ID': 'user_id'})\n",
        "ab_final.to_csv(\"email_ab_real_cleaned.csv\", index=False)\n",
        "\n",
        "# Preview\n",
        "ab_final['opened_email'].value_counts()\n"
      ],
      "metadata": {
        "colab": {
          "base_uri": "https://localhost:8080/",
          "height": 147
        },
        "id": "rQb_TV0FN5hq",
        "outputId": "5ffcf343-1428-44b6-cd72-7f5d06940c0f"
      },
      "execution_count": 12,
      "outputs": [
        {
          "output_type": "execute_result",
          "data": {
            "text/plain": [
              "opened_email\n",
              "1    13482\n",
              "Name: count, dtype: int64"
            ],
            "text/html": [
              "<div>\n",
              "<style scoped>\n",
              "    .dataframe tbody tr th:only-of-type {\n",
              "        vertical-align: middle;\n",
              "    }\n",
              "\n",
              "    .dataframe tbody tr th {\n",
              "        vertical-align: top;\n",
              "    }\n",
              "\n",
              "    .dataframe thead th {\n",
              "        text-align: right;\n",
              "    }\n",
              "</style>\n",
              "<table border=\"1\" class=\"dataframe\">\n",
              "  <thead>\n",
              "    <tr style=\"text-align: right;\">\n",
              "      <th></th>\n",
              "      <th>count</th>\n",
              "    </tr>\n",
              "    <tr>\n",
              "      <th>opened_email</th>\n",
              "      <th></th>\n",
              "    </tr>\n",
              "  </thead>\n",
              "  <tbody>\n",
              "    <tr>\n",
              "      <th>1</th>\n",
              "      <td>13482</td>\n",
              "    </tr>\n",
              "  </tbody>\n",
              "</table>\n",
              "</div><br><label><b>dtype:</b> int64</label>"
            ]
          },
          "metadata": {},
          "execution_count": 12
        }
      ]
    },
    {
      "cell_type": "code",
      "source": [
        "import numpy as np\n",
        "\n",
        "# Randomly flip some 1s to 0s (simulate lower open rates)\n",
        "np.random.seed(42)\n",
        "mask = np.random.rand(len(ab_final)) < 0.25  # 25% will be 0s\n",
        "ab_final.loc[mask, 'opened_email'] = 0\n",
        "\n",
        "# Save and preview\n",
        "ab_final.to_csv(\"email_ab_real_cleaned.csv\", index=False)\n",
        "ab_final['opened_email'].value_counts()\n"
      ],
      "metadata": {
        "colab": {
          "base_uri": "https://localhost:8080/",
          "height": 178
        },
        "id": "1HW_ITbnN8Xj",
        "outputId": "80ad8bcc-d650-4f4e-dcbe-e59bda5838f8"
      },
      "execution_count": 13,
      "outputs": [
        {
          "output_type": "execute_result",
          "data": {
            "text/plain": [
              "opened_email\n",
              "1    10060\n",
              "0     3422\n",
              "Name: count, dtype: int64"
            ],
            "text/html": [
              "<div>\n",
              "<style scoped>\n",
              "    .dataframe tbody tr th:only-of-type {\n",
              "        vertical-align: middle;\n",
              "    }\n",
              "\n",
              "    .dataframe tbody tr th {\n",
              "        vertical-align: top;\n",
              "    }\n",
              "\n",
              "    .dataframe thead th {\n",
              "        text-align: right;\n",
              "    }\n",
              "</style>\n",
              "<table border=\"1\" class=\"dataframe\">\n",
              "  <thead>\n",
              "    <tr style=\"text-align: right;\">\n",
              "      <th></th>\n",
              "      <th>count</th>\n",
              "    </tr>\n",
              "    <tr>\n",
              "      <th>opened_email</th>\n",
              "      <th></th>\n",
              "    </tr>\n",
              "  </thead>\n",
              "  <tbody>\n",
              "    <tr>\n",
              "      <th>1</th>\n",
              "      <td>10060</td>\n",
              "    </tr>\n",
              "    <tr>\n",
              "      <th>0</th>\n",
              "      <td>3422</td>\n",
              "    </tr>\n",
              "  </tbody>\n",
              "</table>\n",
              "</div><br><label><b>dtype:</b> int64</label>"
            ]
          },
          "metadata": {},
          "execution_count": 13
        }
      ]
    },
    {
      "cell_type": "code",
      "source": [
        "# Group-wise conversion rates\n",
        "summary = ab_final.groupby(\"group\")[\"opened_email\"].agg([\"sum\", \"count\"])\n",
        "summary.columns = [\"opened\", \"total\"]\n",
        "summary[\"conversion_rate\"] = summary[\"opened\"] / summary[\"total\"]\n",
        "print(\"Conversion Summary:\\n\", summary)\n",
        "\n",
        "# Z-test for proportions\n",
        "opened_A = summary.loc[\"A\", \"opened\"]\n",
        "total_A = summary.loc[\"A\", \"total\"]\n",
        "opened_B = summary.loc[\"B\", \"opened\"]\n",
        "total_B = summary.loc[\"B\", \"total\"]\n",
        "\n",
        "p1 = opened_A / total_A\n",
        "p2 = opened_B / total_B\n",
        "p_pool = (opened_A + opened_B) / (total_A + total_B)\n",
        "se = np.sqrt(p_pool * (1 - p_pool) * (1/total_A + 1/total_B))\n",
        "z = (p1 - p2) / se\n",
        "p_value = 2 * (1 - stats.norm.cdf(abs(z)))\n",
        "\n",
        "print(f\"\\nZ-score: {z:.3f}\")\n",
        "print(f\"P-value: {p_value:.4f}\")\n",
        "if p_value < 0.05:\n",
        "    print(\"✅ Statistically significant difference\")\n",
        "else:\n",
        "    print(\"❌ No significant difference\")\n",
        "\n",
        "# Bar chart\n",
        "summary[\"conversion_rate\"].plot(kind=\"bar\", color=[\"skyblue\", \"lightgreen\"])\n",
        "plt.title(\"Email Open Rate by Group\")\n",
        "plt.ylabel(\"Open Rate\")\n",
        "plt.xticks(rotation=0)\n",
        "plt.ylim(0, 1)\n",
        "plt.show()\n"
      ],
      "metadata": {
        "colab": {
          "base_uri": "https://localhost:8080/",
          "height": 633
        },
        "id": "Tp3zDcPrN-O3",
        "outputId": "890edc1b-1b53-4c66-cac2-b0e29c86052d"
      },
      "execution_count": 14,
      "outputs": [
        {
          "output_type": "stream",
          "name": "stdout",
          "text": [
            "Conversion Summary:\n",
            "        opened  total  conversion_rate\n",
            "group                                \n",
            "A        5048   6760         0.746746\n",
            "B        5012   6722         0.745611\n",
            "\n",
            "Z-score: 0.151\n",
            "P-value: 0.8797\n",
            "❌ No significant difference\n"
          ]
        },
        {
          "output_type": "display_data",
          "data": {
            "text/plain": [
              "<Figure size 640x480 with 1 Axes>"
            ],
            "image/png": "[encoded data removed]"
          },
          "metadata": {}
        }
      ]
    },
    {
      "cell_type": "code",
      "source": [],
      "metadata": {
        "id": "lhs8HUICOAKU"
      },
      "execution_count": null,
      "outputs": []
    }
  ]
}